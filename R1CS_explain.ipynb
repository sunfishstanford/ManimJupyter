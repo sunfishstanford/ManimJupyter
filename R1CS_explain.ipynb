{
 "cells": [
  {
   "cell_type": "markdown",
   "id": "substantial-impact",
   "metadata": {},
   "source": [
    "# Explain R1CS via animation"
   ]
  },
  {
   "cell_type": "code",
   "execution_count": 1,
   "id": "wound-foundation",
   "metadata": {},
   "outputs": [
    {
     "data": {
      "text/html": [
       "<pre style=\"white-space:pre;overflow-x:auto;line-height:normal;font-family:Menlo,'DejaVu Sans Mono',consolas,'Courier New',monospace\">Manim Community <span style=\"color: #008000; text-decoration-color: #008000\">v0.15.0</span>\n",
       "\n",
       "</pre>\n"
      ],
      "text/plain": [
       "Manim Community \u001b[32mv0.\u001b[0m\u001b[32m15.0\u001b[0m\n",
       "\n"
      ]
     },
     "metadata": {},
     "output_type": "display_data"
    }
   ],
   "source": [
    "from manim import *\n",
    "%matplotlib notebook\n",
    "\n",
    "config.media_width = \"80%\"\n",
    "# to convert mp4 to GIF:\n",
    "# ffmpeg -i Formula.mp4 -vf \"fps=10,split[s0][s1];[s0]palettegen[p];[s1][p]paletteuse\" -loop 0 output.gif\n",
    "# https://superuser.com/questions/556029/how-do-i-convert-a-video-to-gif-using-ffmpeg-with-reasonable-quality\n"
   ]
  },
  {
   "cell_type": "code",
   "execution_count": 86,
   "id": "d6e1e73e",
   "metadata": {},
   "outputs": [
    {
     "name": "stderr",
     "output_type": "stream",
     "text": [
      "                                                                                                     \r"
     ]
    },
    {
     "data": {
      "text/html": [
       "<video src=\"media/jupyter/Formula@2022-03-12@03-07-28.mp4\" controls autoplay loop style=\"max-width: 80%;\"  >\n",
       "      Your browser does not support the <code>video</code> element.\n",
       "    </video>"
      ],
      "text/plain": [
       "<IPython.core.display.Video object>"
      ]
     },
     "metadata": {},
     "output_type": "display_data"
    }
   ],
   "source": [
    "%%manim -v WARNING -qm Formula\n",
    "\n",
    "# fig 1\n",
    "#\n",
    "\n",
    "class Formula(Scene):\n",
    "    def focus(self, src, dest):\n",
    "        framebox1 = SurroundingRectangle(src, buff = .1)\n",
    "        framebox2 = SurroundingRectangle(dest, buff = .1)\n",
    "        self.play(Create(framebox1))\n",
    "        self.play(ReplacementTransform(framebox1,framebox2))\n",
    "        self.wait(duration=0.1)\n",
    "        self.remove(framebox2)\n",
    "\n",
    "    def initlayout(self, eq): # setup initial layout\n",
    "        eqtprev = None\n",
    "        eqt = []\n",
    "        for i,x in enumerate(eq):\n",
    "            a = MathTex(*x[:-1])\n",
    "            eqt.append(a)\n",
    "            if i==0:\n",
    "                a.shift([0,1.5,0])\n",
    "            if x[-1]==\"disp\":                \n",
    "                if eqtprev is not None:\n",
    "                    a.next_to(eqtprev,DOWN, buff=0.3)\n",
    "                self.add(a)\n",
    "                eqtprev=a\n",
    "        return(eqt)\n",
    "                \n",
    "    def xf(self, eqt, idx): # transform                \n",
    "        for i,x in enumerate(idx):\n",
    "            src,dest,op = x\n",
    "            if type(src)==tuple:\n",
    "                a = eqt[src[0]][src[1]]\n",
    "                b = eqt[dest[0]][dest[1]]\n",
    "\n",
    "                aa = a.copy()\n",
    "                aa.move_to(b.get_center())\n",
    "                if op!='nofocus':\n",
    "                    self.focus(a,b)\n",
    "                if op=='rm':\n",
    "                    self.remove(eqt[src[0]])\n",
    "                self.play(Transform(b,aa))\n",
    "                self.wait(duration=0.5)\n",
    "            else:\n",
    "                a = eqt[src]\n",
    "                b = eqt[dest]\n",
    "                aa = a.copy().move_to(b.get_center())\n",
    "                eqt[dest] = aa\n",
    "                self.remove(b)\n",
    "                self.play(Indicate(aa))\n",
    "                if op=='rm':\n",
    "                    self.remove(a)\n",
    "                self.wait(duration=0.5)\n",
    "                \n",
    "                                \n",
    "    def construct(self):\n",
    "\n",
    "        t1 = []\n",
    "        t1.append([\"sym_1=\", \"x * x\", 'disp']) # eq 0\n",
    "        t1.append([\"y=\",     \"sym_1\", \"* x\", 'disp']) # eq 1\n",
    "        t1.append([\"y =\",\"x^3\", 'nodisp']) # eq 2\n",
    "        t1.append([\"sym_2 =\",\"y\",\"+ x\", 'disp']) # eq 3\n",
    "        t1.append([\"sym_2 = \",\"x^3+x\", 'nodisp']) # eq 4\n",
    "        t1.append([\"Out = \",\"sym_2\",\"+5\", 'disp']) # eq 5\n",
    "        t1.append([\"Out = x^3+x+5\", 'nodisp']) # eq 6\n",
    "        eqt = self.initlayout(t1)\n",
    "        self.xf(eqt,[[(0,1),(1,1),'rm'],\n",
    "                    [2,1,''],\n",
    "                    [(1,1),(3,1),'rm'],\n",
    "                    [4,3,''],\n",
    "                    [(3,1),(5,1),'rm'],\n",
    "                    [6,5,'']\n",
    "                   ])\n",
    "\n",
    "        \"\"\"\n",
    "        Here, the meaning is:\n",
    "        (0,1) = \"x * x\"\n",
    "        (1,1) = \"sym_1\"\n",
    "\n",
    "        'rm' in the first commmand = remove (0,1) as part of transforming \n",
    "        (1,1) into (0,1)\n",
    "\n",
    "        2 = [\"y =\",\"x^3\", 'nodisp']\n",
    "        1 = \"y=\",     \"sym_1\", \"* x\", 'disp']\n",
    "        '' in the second command = transform eq 1 into eq 2, and don't touch \n",
    "        eq 2 (in this case, because eq 2 was never displayed)\n",
    "        \n",
    "        Also, 'nofocus' in the command = don't run the focus box, and \n",
    "        don't remove (no 'rm')\n",
    "        \"\"\"\n",
    "        self.wait(duration=2)\n"
   ]
  },
  {
   "cell_type": "code",
   "execution_count": null,
   "id": "72937daf",
   "metadata": {},
   "outputs": [],
   "source": []
  },
  {
   "cell_type": "code",
   "execution_count": 84,
   "id": "247e1ed3",
   "metadata": {},
   "outputs": [
    {
     "name": "stderr",
     "output_type": "stream",
     "text": [
      "                                                                                                     \r"
     ]
    },
    {
     "data": {
      "text/html": [
       "<video src=\"media/jupyter/CalcWitness@2022-03-12@03-01-02.mp4\" controls autoplay loop style=\"max-width: 80%;\"  >\n",
       "      Your browser does not support the <code>video</code> element.\n",
       "    </video>"
      ],
      "text/plain": [
       "<IPython.core.display.Video object>"
      ]
     },
     "metadata": {},
     "output_type": "display_data"
    }
   ],
   "source": [
    "%%manim -v WARNING -qm CalcWitness\n",
    "\n",
    "# fig 2\n",
    "#\n",
    "\n",
    "class CalcWitness(Scene):\n",
    "    def plugfly(self, src, dest, destnew):\n",
    "        self.play(TransformMatchingShapes(Group(src,dest),Group(src,destnew)),run_time=3)\n",
    "\n",
    "    def plugfade(self, src, dest, destnew):\n",
    "        self.play(ReplacementTransform(Group(src,dest),Group(src,destnew)),run_time=3)\n",
    "\n",
    "    def calc(self, eq, eqnew, eqfinal):\n",
    "        self.remove(eqnew[0])\n",
    "        self.play(TransformMatchingShapes(Group(eq,eqnew),eqfinal))\n",
    "#         self.play(TransformMatchingShapes(Group(eq[0],eqnew[1]),eqfinal))\n",
    "        \n",
    "    def overlap(self, first, second):\n",
    "        second.align_to(first,LEFT).align_to(first,DOWN)\n",
    "\n",
    "    def focus(self, src, dest):\n",
    "        framebox1 = SurroundingRectangle(src, buff = .1)\n",
    "        framebox2 = SurroundingRectangle(dest, buff = .1)\n",
    "        self.play(Create(framebox1))\n",
    "        self.play(ReplacementTransform(framebox1,framebox2))\n",
    "        self.wait(duration=0.1)\n",
    "        self.remove(framebox2)\n",
    "\n",
    "    def initlayout(self, eq): # setup initial layout\n",
    "        eqt = []\n",
    "        for x in eq:\n",
    "            a = MathTex(*x[:-1])\n",
    "            eqt.append(a)\n",
    "        eqt[0].shift([0,2.5,0])\n",
    "        eqt[1].shift([0,2,0])\n",
    "        for i in range(len(eqt[0])):\n",
    "            eqt[1][i].align_to(eqt[0][i],RIGHT)\n",
    "        eqt[2].shift([0,0.5,0])\n",
    "        self.add(eqt[0],eqt[1],eqt[2])\n",
    "        eqtprev = eqt[2]\n",
    "        for i in range(3,len(eq)):\n",
    "            if eq[i][-1]==\"disp\":                \n",
    "                a=eqt[i]\n",
    "                a.next_to(eqtprev,DOWN, buff=0.3)\n",
    "                self.add(a)\n",
    "                eqtprev=a\n",
    "        return(eqt)\n",
    "                \n",
    "    def xf(self, eqt, idx): # transform                \n",
    "        for i,x in enumerate(idx):\n",
    "            src,dest,op = x\n",
    "            if type(src)==tuple:\n",
    "                a = eqt[src[0]][src[1]]\n",
    "                b = eqt[dest[0]][dest[1]]\n",
    "\n",
    "                aa = a.copy()\n",
    "                aa.move_to(b.get_center())\n",
    "                if op!='nofocus':\n",
    "                    self.focus(a,b)\n",
    "                if op=='rm':\n",
    "                    self.remove(eqt[src[0]])\n",
    "                self.play(Transform(b,aa))\n",
    "                self.wait(duration=0.5)\n",
    "            else:\n",
    "                a = eqt[src]\n",
    "                b = eqt[dest]\n",
    "                aa = a.copy().move_to(b.get_center())\n",
    "                eqt[dest] = aa\n",
    "                self.remove(b)\n",
    "                self.play(Indicate(aa))\n",
    "                if op=='rm':\n",
    "                    self.remove(a)\n",
    "                self.wait(duration=0.5)\n",
    "                        \n",
    "    def construct(self):\n",
    "        t1 = []\n",
    "        t1.append(['one', '\\quad', 'x', '\\quad', \"out\", \"\\quad\", \"sym_1\", \"\\quad\", \"y\", \"\\quad\", \"sym_2\",'disp'])\n",
    "        t1.append([\"1\",\"\\quad\",\"3\",\"\\quad\",\"?\",\"\\quad\",\"?\",\"\\quad\",\"?\",'\\quad',\"?\",'disp']) # eq 1\n",
    "        t1.append([\"sym_1\",\"=\", \"x\", '*', 'x', 'disp']) # eq 2\n",
    "        t1.append(['9','=3*3', 'nodisp']) # eq 3\n",
    "\n",
    "        t1.append([\"y\",\"=\",\"sym_1\", \"*\",\"x\", 'disp']) # eq 4\n",
    "        t1.append(['27','=9*3', 'nodisp']) # eq 5\n",
    "\n",
    "        t1.append([\"sym_2\",\"=\",\"y\",\"+\",\"x\",'disp']) # eq 6\n",
    "        t1.append([\"30\",\"=27+3\", 'nodisp']) # eq 7\n",
    "\n",
    "        t1.append([\"Out\", \"=\",\"sym_2\",\"+5\", 'disp']) # eq 8\n",
    "        t1.append([\"35\",\"=30+5\", 'nodisp']) # eq 9\n",
    "        \n",
    "        eqt = self.initlayout(t1)\n",
    "        self.xf(eqt,[[(1,2),(2,2),''],\n",
    "                    [(1,2),(2,4),''],\n",
    "                    [(3,0),(2,0),'nofocus'],\n",
    "                    [3,2,''],\n",
    "                    [(2,0),(1,6),''],\n",
    "\n",
    "                    [(1,6),(4,2),''],\n",
    "                    [(1,2),(4,4),''],\n",
    "                    [(5,0),(4,0),'nofocus'],\n",
    "                    [5,4,''],\n",
    "                    [(4,0),(1,8),''],\n",
    "\n",
    "                    [(1,8),(6,2),''],\n",
    "                    [(1,2),(6,4),''],\n",
    "                    [(7,0),(6,0),'nofocus'],\n",
    "                    [7,6,''],\n",
    "                    [(6,0),(1,10),''],\n",
    "\n",
    "                    [(1,10),(8,2),''],\n",
    "                    [(9,0),(8,0),'nofocus'],\n",
    "                    [9,8,''],\n",
    "                    [(8,0),(1,4),''],\n",
    "\n",
    "                    ])\n",
    "\n",
    "        self.wait(duration=2)\n"
   ]
  },
  {
   "cell_type": "code",
   "execution_count": null,
   "id": "14515d71",
   "metadata": {},
   "outputs": [],
   "source": []
  },
  {
   "cell_type": "code",
   "execution_count": 24,
   "id": "complicated-retirement",
   "metadata": {},
   "outputs": [
    {
     "name": "stderr",
     "output_type": "stream",
     "text": [
      "                                                                                                     \r"
     ]
    },
    {
     "data": {
      "text/html": [
       "<video src=\"media/jupyter/Formula@2022-03-12@01-04-57.mp4\" controls autoplay loop style=\"max-width: 80%;\"  >\n",
       "      Your browser does not support the <code>video</code> element.\n",
       "    </video>"
      ],
      "text/plain": [
       "<IPython.core.display.Video object>"
      ]
     },
     "metadata": {},
     "output_type": "display_data"
    }
   ],
   "source": [
    "%%manim -v WARNING -qm Formula\n",
    "# old version of fig 1\n",
    "\n",
    "class Formula(Scene):\n",
    "    def focus(self, src, dest):\n",
    "        framebox1 = SurroundingRectangle(src, buff = .1)\n",
    "        framebox2 = SurroundingRectangle(dest, buff = .1)\n",
    "        self.play(Create(framebox1))\n",
    "        self.play(ReplacementTransform(framebox1,framebox2))\n",
    "        self.wait()\n",
    "        self.remove(framebox2)\n",
    "    \n",
    "    def substitute(self, src, srceq, dest,desteq, neweq, finaleq=None):\n",
    "#         framebox1 = SurroundingRectangle(src, buff = .1)\n",
    "#         framebox2 = SurroundingRectangle(dest, buff = .1)\n",
    "#         self.play(Create(framebox1))\n",
    "#         self.play(ReplacementTransform(framebox1,framebox2))\n",
    "\n",
    "        self.focus(src,dest)\n",
    "#         self.wait()\n",
    "#         self.remove(framebox2)\n",
    "        self.remove(srceq)\n",
    "        self.add(src)\n",
    "        neweq.align_to(desteq,LEFT).align_to(desteq,DOWN)\n",
    "        self.play(TransformMatchingShapes(Group(src,desteq), neweq))\n",
    "        if finaleq is not None:\n",
    "            finaleq.align_to(desteq,LEFT).align_to(desteq,DOWN)\n",
    "            self.play(TransformMatchingShapes(neweq,finaleq))        \n",
    "        \n",
    "    def construct(self):\n",
    "\n",
    "        t1 = MathTex(\"sym_1=\", \"x * x\")\n",
    "        t2 = MathTex(\"y=\", \"sym_1\", \"* x\")\n",
    "        t2new = MathTex(\"y = x * x * x\")\n",
    "        t2final = MathTex(\"y=\",\"x^3\")\n",
    "        t3 = MathTex(\"sym_2 =\",\"y\",\"+ x\")\n",
    "        t3new = MathTex(\"sym_2=\",\"x^3+ x\")\n",
    "        t4 = MathTex(\"Out = \",\"sym_2\",\"+5\")\n",
    "        t4new = MathTex(\"Out = x^3+x+5\")\n",
    "        t1.shift(UP)\n",
    "        t2.next_to(t1,DOWN,buff=0.3)\n",
    "        t3.next_to(t2,DOWN,buff=0.3)\n",
    "        t4.next_to(t3,DOWN,buff=0.3)\n",
    "        self.add(t1,t2,t3,t4)\n",
    "        self.wait()\n",
    "        \n",
    "        self.substitute(t1[1], t1, t2[1], t2, t2new, t2final)\n",
    "        self.wait()\n",
    "        self.substitute(t2final[1], t2final, t3[1], t3, t3new)\n",
    "        self.wait()\n",
    "        self.substitute(t3new[1], t3new, t4[1], t4, t4new)\n",
    "    \n",
    "        self.wait(duration=5)\n",
    "#         self.play(Write(formula), run_time=30)\n"
   ]
  },
  {
   "cell_type": "code",
   "execution_count": 210,
   "id": "c757b92c",
   "metadata": {},
   "outputs": [
    {
     "name": "stderr",
     "output_type": "stream",
     "text": [
      "                                                                                                     \r"
     ]
    },
    {
     "data": {
      "text/html": [
       "<video src=\"media/jupyter/Formula@2022-03-10@17-16-01.mp4\" controls autoplay loop style=\"max-width: 60%;\"  >\n",
       "      Your browser does not support the <code>video</code> element.\n",
       "    </video>"
      ],
      "text/plain": [
       "<IPython.core.display.Video object>"
      ]
     },
     "metadata": {},
     "output_type": "display_data"
    }
   ],
   "source": [
    "%%manim -v WARNING -qm Formula\n",
    "\n",
    "# experiment scratchpad\n",
    "#\n",
    "\n",
    "class Formula(Scene):\n",
    "    def construct(self):\n",
    "\n",
    "        me=(('x^3=',\"1+2\"))\n",
    "        a=MathTex(*me)\n",
    "\n",
    "        nn=MathTex('a=t/c')\n",
    "#         self.play(Create(a))\n",
    "        self.play(ReplacementTransform(a,nn))\n",
    "        self.wait(duration=2)\n"
   ]
  },
  {
   "cell_type": "code",
   "execution_count": null,
   "id": "6afeca44",
   "metadata": {},
   "outputs": [],
   "source": []
  },
  {
   "cell_type": "code",
   "execution_count": 26,
   "id": "1745b38a",
   "metadata": {},
   "outputs": [
    {
     "name": "stderr",
     "output_type": "stream",
     "text": [
      "                                                                                                     \r"
     ]
    },
    {
     "data": {
      "text/html": [
       "<video src=\"media/jupyter/CalcWitness@2022-03-12@01-06-50.mp4\" controls autoplay loop style=\"max-width: 80%;\"  >\n",
       "      Your browser does not support the <code>video</code> element.\n",
       "    </video>"
      ],
      "text/plain": [
       "<IPython.core.display.Video object>"
      ]
     },
     "metadata": {},
     "output_type": "display_data"
    }
   ],
   "source": [
    "%%manim -v WARNING -qm CalcWitness\n",
    "\n",
    "class CalcWitness(Scene):\n",
    "    def plugfly(self, src, dest, destnew):\n",
    "        self.play(TransformMatchingShapes(Group(src,dest),Group(src,destnew)),run_time=3)\n",
    "\n",
    "    def plugfade(self, src, dest, destnew):\n",
    "        self.play(ReplacementTransform(Group(src,dest),Group(src,destnew)),run_time=3)\n",
    "\n",
    "    def calc(self, eq, eqnew, eqfinal):\n",
    "        self.remove(eqnew[0])\n",
    "        self.play(TransformMatchingShapes(Group(eq,eqnew),eqfinal))\n",
    "#         self.play(TransformMatchingShapes(Group(eq[0],eqnew[1]),eqfinal))\n",
    "        \n",
    "    def overlap(self, first, second):\n",
    "        second.align_to(first,LEFT).align_to(first,DOWN)\n",
    "\n",
    "    def focus(self, src, dest):\n",
    "        framebox1 = SurroundingRectangle(src, buff = .1)\n",
    "        framebox2 = SurroundingRectangle(dest, buff = .1)\n",
    "        self.play(Create(framebox1))\n",
    "        self.play(ReplacementTransform(framebox1,framebox2))\n",
    "        self.wait()\n",
    "        self.remove(framebox2)\n",
    "    \n",
    "    def construct(self):\n",
    "\n",
    "        vars = MathTex(\"one \\quad\", \"x \\quad\", \"out \\quad\", \"sym_1 \\quad\", \"y \\quad\", \"sym_2\")\n",
    "        val=[]\n",
    "        val.append(MathTex(\"1 \\quad\",\"3 \\quad\",\"? \\quad\",\"? \\quad\",\"? \\quad\",\"?\"))\n",
    "        val.append(MathTex(\"1 \\quad\",\"3 \\quad\",\"? \\quad\",\"9 \\quad\",\"? \\quad\",\"?\"))\n",
    "        val.append(MathTex(\"1 \\quad\",\"3 \\quad\",\"? \\quad\",\"9 \\quad\",\"27 \\quad\",\"?\"))\n",
    "        val.append(MathTex(\"1 \\quad\",\"3 \\quad\",\"? \\quad\",\"9 \\quad\",\"27 \\quad\",\"30\"))\n",
    "        val.append(MathTex(\"1 \\quad\",\"3 \\quad\",\"35 \\quad\",\"9 \\quad\",\"27 \\quad\",\"30\"))\n",
    "        vars.shift([0,2.7,0])\n",
    "        self.add(vars)\n",
    "        for i,x in enumerate(val):\n",
    "            x.shift([0,2,0])\n",
    "            for j in range(len(vars)):\n",
    "                x[j].align_to(vars[j],LEFT)\n",
    "        self.add(val[0])\n",
    "        \n",
    "        eqa, eqb, eqc = [],[],[]\n",
    "        eqa.append(MathTex(\"sym_1 = x * x\"))\n",
    "        eqb.append(MathTex(\"sym_1 = 3 * 3\"))\n",
    "        eqc.append(MathTex(\"9=3*3\"))\n",
    "        \n",
    "        eqa.append(MathTex(\"y = sym_1 * x\"))\n",
    "        eqb.append(MathTex(\"y = 9*3\"))\n",
    "        eqc.append(MathTex(\"27=9*3\"))\n",
    "\n",
    "        eqa.append(MathTex(\"sym_2 = y+ x\"))\n",
    "        eqb.append(MathTex(\"sym_2 = 27 + 3\"))\n",
    "        eqc.append(MathTex(\"30 = 27 + 3\"))\n",
    "\n",
    "        eqa.append(MathTex(\"out = sym_2 + 5\"))\n",
    "        eqb.append(MathTex(\"out = 30 + 5\"))\n",
    "        eqc.append(MathTex(\"35 = 30 + 5\"))\n",
    "\n",
    "        for i in range(1,len(eqa)):\n",
    "            eqa[i].next_to(eqa[i-1],DOWN,buff=0.3)\n",
    "        for i in range(len(eqa)):\n",
    "            self.add(eqa[i])\n",
    "            self.overlap(eqa[i],eqb[i])\n",
    "            self.overlap(eqa[i],eqc[i])\n",
    "     \n",
    "        for i in range(len(eqa)-1):\n",
    "            self.plugfly(val[i],eqa[i],eqb[i])\n",
    "            self.calc(eqa[i],eqb[i],eqc[i])\n",
    "            self.plugfade(eqc[i],val[i],val[i+1])\n",
    "            \n",
    "# need to hand tune the 4th equation\n",
    "        i=3\n",
    "        self.plugfade(val[i],eqa[i],eqb[i])\n",
    "        self.calc(eqa[i],eqb[i],eqc[i])\n",
    "        self.plugfade(eqc[i],val[i],val[i+1])\n",
    "        \n",
    "        self.wait(duration=5)\n",
    "# steps are:\n",
    "# 1. show the complete set of objects\n",
    "focus: 9=3*1 * 3*1\n"
   ]
  },
  {
   "cell_type": "code",
   "execution_count": null,
   "id": "75da4eb4",
   "metadata": {},
   "outputs": [],
   "source": []
  },
  {
   "cell_type": "code",
   "execution_count": 27,
   "id": "300a78a3",
   "metadata": {},
   "outputs": [
    {
     "name": "stderr",
     "output_type": "stream",
     "text": [
      "                                                                                                     \r"
     ]
    },
    {
     "data": {
      "text/html": [
       "<video src=\"media/jupyter/ReplacementTransformOrTransform@2022-03-12@01-07-29.mp4\" controls autoplay loop style=\"max-width: 80%;\"  >\n",
       "      Your browser does not support the <code>video</code> element.\n",
       "    </video>"
      ],
      "text/plain": [
       "<IPython.core.display.Video object>"
      ]
     },
     "metadata": {},
     "output_type": "display_data"
    }
   ],
   "source": [
    "%%manim -v WARNING -qm ReplacementTransformOrTransform\n",
    "\n",
    "class ReplacementTransformOrTransform(Scene):\n",
    "    def construct(self):\n",
    "#         a=VGroup(*[Integer(2),Integer(445)])\n",
    "#         self.play(Create(a))\n",
    "        # set up the numbers\n",
    "        r_transform = VGroup(*[Integer(i) for i in range(0,3)])\n",
    "        text_1 = Text(\"ReplacementTransform\", color=RED)\n",
    "        r_transform.add(text_1)\n",
    "        r_transform.arrange(direction=DOWN, buff=1)\n",
    "\n",
    "        transform = VGroup(*[Integer(i) for i in range(4,7)])\n",
    "        text_2 = Text(\"Transform\", color=BLUE).scale(.75)\n",
    "        transform.add(text_2)\n",
    "        transform.arrange(direction=DOWN, buff=1)\n",
    "\n",
    "        ints = VGroup(r_transform, transform)\n",
    "        texts = VGroup(text_1, text_2).scale(1)\n",
    "\n",
    "        ints.arrange(buff=2)\n",
    "        self.add(ints)\n",
    "\n",
    "        # The mobs replace each other and none are left behind\n",
    "        # ReplacementTransform = take the drawing context pointer\n",
    "        # that points to the first object, and delete from the\n",
    "        # drawing context; if the second object had not previously been\n",
    "        # added, then add it to the drawing context\n",
    "        #\n",
    "        # Transform = change the attributes of the first object to make it\n",
    "        # identical to the attributes of the second object (the attributes\n",
    "        # are kind of like a pointcloud, or the vectorized equivalent)\n",
    "        a = Text('new')\n",
    "        self.play(ReplacementTransform(r_transform[0], a))\n",
    "        self.play(Transform(r_transform[1], r_transform[2]))\n",
    "        r_transform[2].shift(RIGHT)\n",
    "        self.wait()\n",
    "        self.remove(a)\n",
    "#         self.play(ReplacementTransform(r_transform[1], r_transform[2]))\n",
    "\n",
    "#         # The mobs linger after the Transform()\n",
    "#         self.play(Transform(transform[0], transform[1]))\n",
    "#         self.play(Transform(transform[1], transform[2]))\n",
    "        self.wait()"
   ]
  },
  {
   "cell_type": "code",
   "execution_count": null,
   "id": "aad1ae36",
   "metadata": {},
   "outputs": [],
   "source": []
  }
 ],
 "metadata": {
  "kernelspec": {
   "display_name": "Python 3 (ipykernel)",
   "language": "python",
   "name": "python3"
  },
  "language_info": {
   "codemirror_mode": {
    "name": "ipython",
    "version": 3
   },
   "file_extension": ".py",
   "mimetype": "text/x-python",
   "name": "python",
   "nbconvert_exporter": "python",
   "pygments_lexer": "ipython3",
   "version": "3.9.7"
  }
 },
 "nbformat": 4,
 "nbformat_minor": 5
}
