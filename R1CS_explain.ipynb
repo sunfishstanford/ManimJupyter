{
 "cells": [
  {
   "cell_type": "markdown",
   "id": "substantial-impact",
   "metadata": {},
   "source": [
    "# Explain R1CS via animation"
   ]
  },
  {
   "cell_type": "code",
   "execution_count": 234,
   "id": "wound-foundation",
   "metadata": {},
   "outputs": [],
   "source": [
    "from manim import *\n",
    "%matplotlib notebook\n",
    "\n",
    "config.media_width = \"80%\"\n",
    "# to convert mp4 to GIF:\n",
    "# ffmpeg -i Formula.mp4 -vf \"fps=10,split[s0][s1];[s0]palettegen[p];[s1][p]paletteuse\" -loop 0 output.gif\n",
    "# https://superuser.com/questions/556029/how-do-i-convert-a-video-to-gif-using-ffmpeg-with-reasonable-quality\n"
   ]
  },
  {
   "cell_type": "code",
   "execution_count": 239,
   "id": "554fbd38",
   "metadata": {},
   "outputs": [
    {
     "name": "stderr",
     "output_type": "stream",
     "text": [
      "                                                                                                     \r"
     ]
    },
    {
     "data": {
      "text/html": [
       "<video src=\"media/jupyter/Formula@2022-03-10@22-55-48.mp4\" controls autoplay loop style=\"max-width: 80%;\"  >\n",
       "      Your browser does not support the <code>video</code> element.\n",
       "    </video>"
      ],
      "text/plain": [
       "<IPython.core.display.Video object>"
      ]
     },
     "metadata": {},
     "output_type": "display_data"
    }
   ],
   "source": [
    "%%manim -v WARNING -qm Formula\n",
    "\n",
    "# experiment scratchpad\n",
    "#\n",
    "\n",
    "class Formula(Scene):\n",
    "    def focus(self, src, dest):\n",
    "        framebox1 = SurroundingRectangle(src, buff = .1)\n",
    "        framebox2 = SurroundingRectangle(dest, buff = .1)\n",
    "        self.play(Create(framebox1))\n",
    "        self.play(ReplacementTransform(framebox1,framebox2))\n",
    "        self.wait()\n",
    "        self.remove(framebox2)\n",
    "\n",
    "    def xf(self, eq, idx): # transform\n",
    "        eqtprev = None\n",
    "        eqt = []\n",
    "        for i,x in enumerate(eq):\n",
    "            a = MathTex(*x[:-1])\n",
    "            eqt.append(a)\n",
    "            if x[-1]==\"disp\":                \n",
    "                if eqtprev is not None:\n",
    "                    a.next_to(eqtprev,DOWN, buff=0.3)\n",
    "                self.add(a)\n",
    "                eqtprev=a\n",
    "                \n",
    "# 'rm' = remove the source equation after the transform\n",
    "# 'mv' = replace object 1 with object 2 \n",
    "        for i,x in enumerate(idx):\n",
    "            src,dest,op = x\n",
    "            if type(src)==tuple:\n",
    "                a = eqt[src[0]][src[1]]\n",
    "                aa = a.copy()\n",
    "                b = eqt[dest[0]][dest[1]]\n",
    "                self.focus(a,b)\n",
    "                aa.align_to(b,UP).align_to(b,LEFT)\n",
    "                self.play(ReplacementTransform(b,aa))\n",
    "                if op=='rm':\n",
    "                    self.remove(eqt[src[0]])\n",
    "            else:\n",
    "                a = eqt[src]\n",
    "                b = eqt[dest]\n",
    "                bb = b.copy()\n",
    "                a.align_to(b,UP).align_to(b,LEFT)\n",
    "                bb.align_to(b,UP).align_to(b,LEFT)\n",
    "                self.play(ReplacementTransform(a,bb))\n",
    "                if op=='rm':\n",
    "                    self.remove(a)\n",
    "                                \n",
    "    def construct(self):\n",
    "\n",
    "        t1 = []\n",
    "        t1.append([\"sym_1=\", \"x * x\", 'disp'])\n",
    "        t1.append([\"y=\",     \"sym_1\", \"* x\", 'disp'])\n",
    "        t1.append([\"y =\",\"x^3\", 'no'])\n",
    "        t1.append([\"sym_2 =\",\"y\",\"+ x\", 'disp'])\n",
    "        t1.append([\"Out = \",\"sym_2\",\"+5\", 'disp'])\n",
    "        t1.append([\"Out = x^3+x+5\", 'no'])\n",
    "\n",
    "        self.xf(t1,[[(0,1),(1,1),'rm'],[2,1,'']])\n",
    "        self.wait(duration=2)\n"
   ]
  },
  {
   "cell_type": "code",
   "execution_count": 227,
   "id": "eec625d6",
   "metadata": {},
   "outputs": [
    {
     "data": {
      "text/plain": [
       "4"
      ]
     },
     "execution_count": 227,
     "metadata": {},
     "output_type": "execute_result"
    }
   ],
   "source": [
    "a=[1,2,3,4]\n",
    "a[-1]"
   ]
  },
  {
   "cell_type": "code",
   "execution_count": null,
   "id": "32443cd6",
   "metadata": {},
   "outputs": [],
   "source": []
  },
  {
   "cell_type": "code",
   "execution_count": 122,
   "id": "complicated-retirement",
   "metadata": {},
   "outputs": [
    {
     "name": "stderr",
     "output_type": "stream",
     "text": [
      "                                                                                                     \r"
     ]
    },
    {
     "data": {
      "text/html": [
       "<video src=\"media/jupyter/Formula@2022-03-10@10-42-41.mp4\" controls autoplay loop style=\"max-width: 60%;\"  >\n",
       "      Your browser does not support the <code>video</code> element.\n",
       "    </video>"
      ],
      "text/plain": [
       "<IPython.core.display.Video object>"
      ]
     },
     "metadata": {},
     "output_type": "display_data"
    }
   ],
   "source": [
    "%%manim -v WARNING -qm Formula\n",
    "\n",
    "class Formula(Scene):\n",
    "    def focus(self, src, dest):\n",
    "        framebox1 = SurroundingRectangle(src, buff = .1)\n",
    "        framebox2 = SurroundingRectangle(dest, buff = .1)\n",
    "        self.play(Create(framebox1))\n",
    "        self.play(ReplacementTransform(framebox1,framebox2))\n",
    "        self.wait()\n",
    "        self.remove(framebox2)\n",
    "    \n",
    "    def substitute(self, src, srceq, dest,desteq, neweq, finaleq=None):\n",
    "#         framebox1 = SurroundingRectangle(src, buff = .1)\n",
    "#         framebox2 = SurroundingRectangle(dest, buff = .1)\n",
    "#         self.play(Create(framebox1))\n",
    "#         self.play(ReplacementTransform(framebox1,framebox2))\n",
    "\n",
    "        self.focus(src,dest)\n",
    "#         self.wait()\n",
    "#         self.remove(framebox2)\n",
    "        self.remove(srceq)\n",
    "        self.add(src)\n",
    "        neweq.align_to(desteq,LEFT).align_to(desteq,DOWN)\n",
    "        self.play(TransformMatchingShapes(Group(src,desteq), neweq))\n",
    "        if finaleq is not None:\n",
    "            finaleq.align_to(desteq,LEFT).align_to(desteq,DOWN)\n",
    "            self.play(TransformMatchingShapes(neweq,finaleq))        \n",
    "        \n",
    "    def construct(self):\n",
    "\n",
    "        t1 = MathTex(\"sym_1=\", \"x * x\")\n",
    "        t2 = MathTex(\"y=\", \"sym_1\", \"* x\")\n",
    "        t2new = MathTex(\"y = x * x * x\")\n",
    "        t2final = MathTex(\"y=\",\"x^3\")\n",
    "        t3 = MathTex(\"sym_2 =\",\"y\",\"+ x\")\n",
    "        t3new = MathTex(\"sym_2=\",\"x^3+ x\")\n",
    "        t4 = MathTex(\"Out = \",\"sym_2\",\"+5\")\n",
    "        t4new = MathTex(\"Out = x^3+x+5\")\n",
    "        t1.shift(UP)\n",
    "        t2.next_to(t1,DOWN,buff=0.3)\n",
    "        t3.next_to(t2,DOWN,buff=0.3)\n",
    "        t4.next_to(t3,DOWN,buff=0.3)\n",
    "        self.add(t1,t2,t3,t4)\n",
    "        self.wait()\n",
    "        \n",
    "        self.substitute(t1[1], t1, t2[1], t2, t2new, t2final)\n",
    "        self.wait()\n",
    "#         src, srceq, dest, desteq, neweq, finaleq\n",
    "#         src=t1[2]\n",
    "#         srceq = t1\n",
    "#         dest=t2[2]\n",
    "#         desteq=t2\n",
    "#         neweq=t2p\n",
    "#         finaleq=t2pp\n",
    "\n",
    "        self.substitute(t2final[1], t2final, t3[1], t3, t3new)\n",
    "        self.wait()\n",
    "        self.substitute(t3new[1], t3new, t4[1], t4, t4new)\n",
    "    \n",
    "        self.wait(duration=5)\n",
    "#         self.play(Write(formula), run_time=30)\n"
   ]
  },
  {
   "cell_type": "code",
   "execution_count": 210,
   "id": "cfe13566",
   "metadata": {},
   "outputs": [
    {
     "name": "stderr",
     "output_type": "stream",
     "text": [
      "                                                                                                     \r"
     ]
    },
    {
     "data": {
      "text/html": [
       "<video src=\"media/jupyter/Formula@2022-03-10@17-16-01.mp4\" controls autoplay loop style=\"max-width: 60%;\"  >\n",
       "      Your browser does not support the <code>video</code> element.\n",
       "    </video>"
      ],
      "text/plain": [
       "<IPython.core.display.Video object>"
      ]
     },
     "metadata": {},
     "output_type": "display_data"
    }
   ],
   "source": [
    "%%manim -v WARNING -qm Formula\n",
    "\n",
    "# experiment scratchpad\n",
    "#\n",
    "\n",
    "class Formula(Scene):\n",
    "    def construct(self):\n",
    "\n",
    "        me=(('x^3=',\"1+2\"))\n",
    "        a=MathTex(*me)\n",
    "\n",
    "        nn=MathTex('a=t/c')\n",
    "#         self.play(Create(a))\n",
    "        self.play(ReplacementTransform(a,nn))\n",
    "        self.wait(duration=2)\n"
   ]
  },
  {
   "cell_type": "code",
   "execution_count": 184,
   "id": "1bcef2bb",
   "metadata": {},
   "outputs": [
    {
     "data": {
      "text/plain": [
       "False"
      ]
     },
     "execution_count": 184,
     "metadata": {},
     "output_type": "execute_result"
    }
   ],
   "source": [
    "a= 0\n",
    "type(a)==tuple"
   ]
  },
  {
   "cell_type": "code",
   "execution_count": null,
   "id": "25a40456",
   "metadata": {},
   "outputs": [],
   "source": []
  },
  {
   "cell_type": "code",
   "execution_count": 170,
   "id": "9c9d5d7d",
   "metadata": {},
   "outputs": [
    {
     "name": "stderr",
     "output_type": "stream",
     "text": [
      "                                                                                                     \r"
     ]
    },
    {
     "data": {
      "text/html": [
       "<video src=\"media/jupyter/Formula@2022-03-10@15-21-17.mp4\" controls autoplay loop style=\"max-width: 60%;\"  >\n",
       "      Your browser does not support the <code>video</code> element.\n",
       "    </video>"
      ],
      "text/plain": [
       "<IPython.core.display.Video object>"
      ]
     },
     "metadata": {},
     "output_type": "display_data"
    }
   ],
   "source": [
    "%%manim -v WARNING -qm Formula\n",
    "# experiment\n",
    "#\n",
    "#\n",
    "class Formula(Scene):\n",
    "    def focus(self, src, dest):\n",
    "        framebox1 = SurroundingRectangle(src, buff = .1)\n",
    "        framebox2 = SurroundingRectangle(dest, buff = .1)\n",
    "        self.play(Create(framebox1))\n",
    "        self.play(ReplacementTransform(framebox1,framebox2))\n",
    "        self.wait()\n",
    "        self.remove(framebox2)\n",
    "    \n",
    "    def substitute(self, src, srceq, dest,desteq, neweq, finaleq=None):\n",
    "\n",
    "        self.focus(src,dest)\n",
    "        self.remove(srceq)\n",
    "        self.add(src)\n",
    "        neweq.align_to(desteq,LEFT).align_to(desteq,DOWN)\n",
    "        self.play(TransformMatchingShapes(Group(src,desteq), neweq))\n",
    "        if finaleq is not None:\n",
    "            finaleq.align_to(desteq,LEFT).align_to(desteq,DOWN)\n",
    "            self.play(TransformMatchingShapes(neweq,finaleq))        \n",
    "        test = src\n",
    "        test.shift([5,0,0])\n",
    "        self.add(test)\n",
    "        self.wait()\n",
    "        test2 = src\n",
    "        test2.shift([0,1,0])\n",
    "        self.add(test2)\n",
    "        self.wait()\n",
    "        \n",
    "    def construct(self):\n",
    "\n",
    "        t1 = MathTex(\"sym_1=\", \"x * x\")\n",
    "        t2 = MathTex(\"y=\", \"sym_1\", \"* x\")\n",
    "        t2new = MathTex(\"y = x * x * x\")\n",
    "        t2final = MathTex(\"y=\",\"x^3\")\n",
    "        t3 = MathTex(\"sym_2 =\",\"y\",\"+ x\")\n",
    "        t3new = MathTex(\"sym_2=\",\"x^3+ x\")\n",
    "        t4 = MathTex(\"Out = \",\"sym_2\",\"+5\")\n",
    "        t4new = MathTex(\"Out = x^3+x+5\")\n",
    "        t1.shift(UP)\n",
    "        t2.next_to(t1,DOWN,buff=0.3)\n",
    "        t3.next_to(t2,DOWN,buff=0.3)\n",
    "        t4.next_to(t3,DOWN,buff=0.3)\n",
    "        self.add(t1,t2,t3,t4)\n",
    "        self.wait()\n",
    "        \n",
    "        self.substitute(t1[1], t1, t2[1], t2, t2new, t2final)\n",
    "        self.wait()\n",
    "\n"
   ]
  },
  {
   "cell_type": "code",
   "execution_count": null,
   "id": "ed0d55e4",
   "metadata": {},
   "outputs": [],
   "source": []
  },
  {
   "cell_type": "code",
   "execution_count": 171,
   "id": "e6da52a5",
   "metadata": {},
   "outputs": [
    {
     "name": "stderr",
     "output_type": "stream",
     "text": [
      "                                                                                                     \r"
     ]
    },
    {
     "data": {
      "text/html": [
       "<video src=\"media/jupyter/CalcWitness@2022-03-10@15-21-51.mp4\" controls autoplay loop style=\"max-width: 60%;\"  >\n",
       "      Your browser does not support the <code>video</code> element.\n",
       "    </video>"
      ],
      "text/plain": [
       "<IPython.core.display.Video object>"
      ]
     },
     "metadata": {},
     "output_type": "display_data"
    }
   ],
   "source": [
    "%%manim -v WARNING -qm CalcWitness\n",
    "\n",
    "class CalcWitness(Scene):\n",
    "    def plugfly(self, src, dest, destnew):\n",
    "        self.play(TransformMatchingShapes(Group(src,dest),Group(src,destnew)),run_time=3)\n",
    "\n",
    "    def plugfade(self, src, dest, destnew):\n",
    "        self.play(ReplacementTransform(Group(src,dest),Group(src,destnew)),run_time=3)\n",
    "\n",
    "    def calc(self, eq, eqnew, eqfinal):\n",
    "        self.remove(eqnew[0])\n",
    "        self.play(TransformMatchingShapes(Group(eq,eqnew),eqfinal))\n",
    "#         self.play(TransformMatchingShapes(Group(eq[0],eqnew[1]),eqfinal))\n",
    "        \n",
    "    def overlap(self, first, second):\n",
    "        second.align_to(first,LEFT).align_to(first,DOWN)\n",
    "\n",
    "    def focus(self, src, dest):\n",
    "        framebox1 = SurroundingRectangle(src, buff = .1)\n",
    "        framebox2 = SurroundingRectangle(dest, buff = .1)\n",
    "        self.play(Create(framebox1))\n",
    "        self.play(ReplacementTransform(framebox1,framebox2))\n",
    "        self.wait()\n",
    "        self.remove(framebox2)\n",
    "    \n",
    "    def construct(self):\n",
    "\n",
    "        vars = MathTex(\"one \\quad\", \"x \\quad\", \"out \\quad\", \"sym_1 \\quad\", \"y \\quad\", \"sym_2\")\n",
    "        val=[]\n",
    "        val.append(MathTex(\"1 \\quad\",\"3 \\quad\",\"? \\quad\",\"? \\quad\",\"? \\quad\",\"?\"))\n",
    "        val.append(MathTex(\"1 \\quad\",\"3 \\quad\",\"? \\quad\",\"9 \\quad\",\"? \\quad\",\"?\"))\n",
    "        val.append(MathTex(\"1 \\quad\",\"3 \\quad\",\"? \\quad\",\"9 \\quad\",\"27 \\quad\",\"?\"))\n",
    "        val.append(MathTex(\"1 \\quad\",\"3 \\quad\",\"? \\quad\",\"9 \\quad\",\"27 \\quad\",\"30\"))\n",
    "        val.append(MathTex(\"1 \\quad\",\"3 \\quad\",\"35 \\quad\",\"9 \\quad\",\"27 \\quad\",\"30\"))\n",
    "        vars.shift([0,2.7,0])\n",
    "        self.add(vars)\n",
    "        for i,x in enumerate(val):\n",
    "            x.shift([0,2,0])\n",
    "            for j in range(len(vars)):\n",
    "                x[j].align_to(vars[j],LEFT)\n",
    "        self.add(val[0])\n",
    "        \n",
    "        eqa, eqb, eqc = [],[],[]\n",
    "        eqa.append(MathTex(\"sym_1 = x * x\"))\n",
    "        eqb.append(MathTex(\"sym_1 = 3 * 3\"))\n",
    "        eqc.append(MathTex(\"9=3*3\"))\n",
    "        \n",
    "        eqa.append(MathTex(\"y = sym_1 * x\"))\n",
    "        eqb.append(MathTex(\"y = 9*3\"))\n",
    "        eqc.append(MathTex(\"27=9*3\"))\n",
    "\n",
    "        eqa.append(MathTex(\"sym_2 = y+ x\"))\n",
    "        eqb.append(MathTex(\"sym_2 = 27 + 3\"))\n",
    "        eqc.append(MathTex(\"30 = 27 + 3\"))\n",
    "\n",
    "        eqa.append(MathTex(\"out = sym_2 + 5\"))\n",
    "        eqb.append(MathTex(\"out = 30 + 5\"))\n",
    "        eqc.append(MathTex(\"35 = 30 + 5\"))\n",
    "\n",
    "        for i in range(1,len(eqa)):\n",
    "            eqa[i].next_to(eqa[i-1],DOWN,buff=0.3)\n",
    "        for i in range(len(eqa)):\n",
    "            self.add(eqa[i])\n",
    "            self.overlap(eqa[i],eqb[i])\n",
    "            self.overlap(eqa[i],eqc[i])\n",
    "     \n",
    "        for i in range(len(eqa)-1):\n",
    "            self.plugfly(val[i],eqa[i],eqb[i])\n",
    "            self.calc(eqa[i],eqb[i],eqc[i])\n",
    "            self.plugfade(eqc[i],val[i],val[i+1])\n",
    "            \n",
    "# need to hand tune the 4th equation\n",
    "        i=3\n",
    "        self.plugfade(val[i],eqa[i],eqb[i])\n",
    "        self.calc(eqa[i],eqb[i],eqc[i])\n",
    "        self.plugfade(eqc[i],val[i],val[i+1])\n",
    "        \n",
    "        self.wait(duration=5)\n",
    "# steps are:\n",
    "# 1. show the complete set of objects\n",
    "focus: 9=3*1 * 3*1\n"
   ]
  },
  {
   "cell_type": "code",
   "execution_count": null,
   "id": "75da4eb4",
   "metadata": {},
   "outputs": [],
   "source": []
  },
  {
   "cell_type": "code",
   "execution_count": 6,
   "id": "bfb7c6a3",
   "metadata": {},
   "outputs": [
    {
     "name": "stderr",
     "output_type": "stream",
     "text": [
      "                                                                                                          \r"
     ]
    },
    {
     "data": {
      "text/html": [
       "<video src=\"media/jupyter/Hello@2022-03-06@10-43-50.mp4\" controls autoplay loop style=\"max-width: 60%;\"  >\n",
       "      Your browser does not support the <code>video</code> element.\n",
       "    </video>"
      ],
      "text/plain": [
       "<IPython.core.display.Video object>"
      ]
     },
     "metadata": {},
     "output_type": "display_data"
    }
   ],
   "source": [
    "%%manim -v WARNING -qm Hello\n",
    "\n",
    "class Hello(Scene):\n",
    "    def construct(self):\n",
    "        t1 = Tex(r\"\\LaTeX\", font_size=144)\n",
    "        t2 = MathTex(\"x^5-1=0\")\n",
    "        t2.next_to(t1,DOWN)\n",
    "        self.add(t1,t2)\n",
    "        self.wait()\n",
    "        self.remove(t2)\n",
    "        self.play(ReplacementTransform(t1,t2))\n",
    "        self.wait(duration=2)\n"
   ]
  },
  {
   "cell_type": "code",
   "execution_count": 11,
   "id": "7a6aad35",
   "metadata": {},
   "outputs": [],
   "source": [
    "a=Hello()"
   ]
  },
  {
   "cell_type": "code",
   "execution_count": null,
   "id": "aad1ae36",
   "metadata": {},
   "outputs": [],
   "source": []
  },
  {
   "cell_type": "markdown",
   "id": "polyphonic-sucking",
   "metadata": {},
   "source": [
    "## Positioning Mobjects and moving them around"
   ]
  },
  {
   "cell_type": "markdown",
   "id": "pursuant-bubble",
   "metadata": {},
   "source": [
    "New problem: We want to create a scene in which a circle is created while simultaneously some text is written below it. We can reuse our blue circle from above, and then add some new code:"
   ]
  },
  {
   "cell_type": "code",
   "execution_count": 4,
   "id": "dedicated-wiring",
   "metadata": {},
   "outputs": [
    {
     "name": "stderr",
     "output_type": "stream",
     "text": [
      "                                                                                  \r"
     ]
    },
    {
     "data": {
      "text/html": [
       "<video src=\"media/jupyter/HelloCircle@2022-02-19@01-49-20.mp4\" controls autoplay loop style=\"max-width: 60%;\"  >\n",
       "      Your browser does not support the <code>video</code> element.\n",
       "    </video>"
      ],
      "text/plain": [
       "<IPython.core.display.Video object>"
      ]
     },
     "metadata": {},
     "output_type": "display_data"
    }
   ],
   "source": [
    "%%manim -v WARNING -qm HelloCircle\n",
    "\n",
    "class HelloCircle(Scene):\n",
    "    def construct(self):\n",
    "        # blue_circle = Circle(color=BLUE, fill_opacity=0.5)\n",
    "        # We can also create a \"plain\" circle and add the desired attributes via set methods:\n",
    "        circle = Circle()\n",
    "        blue_circle = circle.set_color(BLUE).set_opacity(0.5)\n",
    "        \n",
    "        label = Text(\"A wild circle appears!\")\n",
    "        label.next_to(blue_circle, DOWN, buff=0.5)\n",
    "        \n",
    "        self.play(Create(blue_circle), Write(label))\n",
    "        self.wait()"
   ]
  },
  {
   "cell_type": "code",
   "execution_count": 30,
   "id": "e94972b5",
   "metadata": {},
   "outputs": [
    {
     "name": "stderr",
     "output_type": "stream",
     "text": [
      "                                                                                     \r"
     ]
    },
    {
     "data": {
      "text/html": [
       "<video src=\"media/jupyter/HelloCircle@2022-02-19@02-19-43.mp4\" controls autoplay loop style=\"max-width: 60%;\"  >\n",
       "      Your browser does not support the <code>video</code> element.\n",
       "    </video>"
      ],
      "text/plain": [
       "<IPython.core.display.Video object>"
      ]
     },
     "metadata": {},
     "output_type": "display_data"
    }
   ],
   "source": [
    "%%manim -v WARNING -qm HelloCircle\n",
    "\n",
    "class HelloCircle(Scene):\n",
    "    def construct(self):\n",
    "        # blue_circle = Circle(color=BLUE, fill_opacity=0.5)\n",
    "        # We can also create a \"plain\" circle and add the desired attributes via set methods:\n",
    "        blue_circle = Circle(color=BLUE, fill_opacity=0.5)\n",
    "        red_circle = Circle(color=RED, fill_opacity=0.5)\n",
    "        red_circle.next_to(blue_circle,DOWN,buff=1)\n",
    "        v1 = Text(\"3\")\n",
    "        v2 = Text(\"5\")\n",
    "        op = Text(\" * \")\n",
    "        v1.next_to(op,LEFT,buff=0.2)\n",
    "        v2.next_to(op,RIGHT,buff=0.2)\n",
    "        op2 = Text(\" * 1 + \")\n",
    "        op2.next_to(op,DOWN,buff=1)\n",
    "        op3 = Text(\" * 1 \")\n",
    "        op3.next_to(op2,RIGHT,buff=.7)\n",
    "        \n",
    "        self.play(Create(v1),Write(op),Create(v2))\n",
    "        self.wait()\n",
    "        self.play(Write(op2), Write(op3))\n",
    "        self.wait()\n",
    "        self.remove(op)\n",
    "        self.play(v1.animate.next_to(op2,LEFT,buff=0.2),v2.animate.next_to(op2,RIGHT,buff=0.2))\n",
    "        self.wait()\n",
    "        self.wait()"
   ]
  },
  {
   "cell_type": "markdown",
   "id": "quick-temperature",
   "metadata": {},
   "source": [
    "Apparently, text can be rendered by using a `Text` Mobject – and the desired position is achieved by the line\n",
    "```py\n",
    "label.next_to(blue_circle, DOWN, buff=0.5)\n",
    "```\n",
    "Mobjects have a few methods for positioning, `next_to` is one of them (`shift`, `to_edge`, `to_corner`, `move_to` are a few others – check them out in our [documentation](https://docs.manim.community/) by using the search bar on the left!). For `next_to`, the first argument that is passed (`blue_circle`) describes next to which object our `label` should be placed. The second argument, `DOWN`, describes the direction (try changing it to `LEFT`, `UP`, or `RIGHT` instead!). And finally, `buff=0.5` controls the \"buffer distance\" between `blue_circle` and `label`, increasing this value will push `label` further down.\n",
    "\n",
    "But also note that the `self.play` call has been changed: it is possible to pass several animation arguments to `self.play`, they will then be played simultaneously. If you want to play them one after the other, replace the `self.play` call with the lines\n",
    "```py\n",
    "self.play(Create(blue_circle))\n",
    "self.play(Write(label))\n",
    "```\n",
    "and see what happens.\n",
    "\n",
    "By the way, Mobjects naturally also have non-positioning related methods: for example, to get our blue circle, we could also create a default one, and then set color and opacity:\n",
    "```py\n",
    "circle = Circle()\n",
    "blue_transparent_circle = circle.set_color(BLUE)\n",
    "blue_circle = blue_transparent_circle.set_opacity(0.5)\n",
    "```\n",
    "A shorter version of this would be\n",
    "```py\n",
    "blue_circle = Circle().set_color(BLUE).set_opacity(0.5)\n",
    "```\n",
    "For now, we will stick with setting the attributes directly in the call to `Circle`."
   ]
  },
  {
   "cell_type": "markdown",
   "id": "composed-solomon",
   "metadata": {},
   "source": [
    "## Animating Method calls: the `.animate` syntax"
   ]
  },
  {
   "cell_type": "markdown",
   "id": "opponent-institution",
   "metadata": {},
   "source": [
    "In the last example we have encountered the `.next_to` method, one of many (!) methods that modify Mobjects in one way or the other. But what if we wanted to animate how a Mobject changes when one of these methods is applied, say, when we `.shift` something around, or `.rotate` a Mobject, or maybe `.scale` it? The `.animate` syntax is the answer to this question, let us look at an example."
   ]
  },
  {
   "cell_type": "code",
   "execution_count": 19,
   "id": "formal-bargain",
   "metadata": {},
   "outputs": [
    {
     "name": "stderr",
     "output_type": "stream",
     "text": [
      "                                                                                                   \r"
     ]
    },
    {
     "data": {
      "text/html": [
       "<video src=\"media/jupyter/CircleAnnouncement@2022-02-19@02-06-57.mp4\" controls autoplay loop style=\"max-width: 60%;\"  >\n",
       "      Your browser does not support the <code>video</code> element.\n",
       "    </video>"
      ],
      "text/plain": [
       "<IPython.core.display.Video object>"
      ]
     },
     "metadata": {},
     "output_type": "display_data"
    }
   ],
   "source": [
    "%%manim -v WARNING -qm CircleAnnouncement\n",
    "\n",
    "class CircleAnnouncement(Scene):\n",
    "    def construct(self):\n",
    "        blue_circle = Circle(color=BLUE, fill_opacity=0.5)\n",
    "        announcement = Text(\"Let us draw a circle.\")\n",
    "        \n",
    "        self.play(Write(announcement))\n",
    "        self.wait()\n",
    "        \n",
    "        self.play(announcement.animate.next_to(blue_circle, UP, buff=0.5))\n",
    "        self.play(Create(blue_circle))"
   ]
  },
  {
   "cell_type": "markdown",
   "id": "attractive-citizenship",
   "metadata": {},
   "source": [
    "Where we would normally use `announcement.next_to(blue_circle, UP, buff=0.5)` to position the text without animation, we can prepend `.animate` to the method call to turn the application of the method into an animation which can then be played using `self.play`. This works with all methods that modify a Mobject in some way:"
   ]
  },
  {
   "cell_type": "code",
   "execution_count": 26,
   "id": "primary-postage",
   "metadata": {},
   "outputs": [
    {
     "name": "stderr",
     "output_type": "stream",
     "text": [
      "                                                                                          \r"
     ]
    },
    {
     "data": {
      "text/html": [
       "<video src=\"media/jupyter/AnimateSyntax@2022-02-19@02-12-45.mp4\" controls autoplay loop style=\"max-width: 60%;\"  >\n",
       "      Your browser does not support the <code>video</code> element.\n",
       "    </video>"
      ],
      "text/plain": [
       "<IPython.core.display.Video object>"
      ]
     },
     "metadata": {},
     "output_type": "display_data"
    }
   ],
   "source": [
    "%%manim -v WARNING -qm AnimateSyntax\n",
    "\n",
    "class AnimateSyntax(Scene):\n",
    "    def construct(self):\n",
    "        triangle = Triangle(color=RED, fill_opacity=1)\n",
    "        self.play(DrawBorderThenFill(triangle))\n",
    "        self.play(triangle.animate.shift(LEFT))\n",
    "        self.play(triangle.animate.shift(RIGHT).scale(2))\n",
    "        self.play(triangle.animate.rotate(PI/3))"
   ]
  },
  {
   "cell_type": "markdown",
   "id": "prompt-reaction",
   "metadata": {},
   "source": [
    "In the first play call the triangle is created, in the second it is shifted to the left, then in the third it is shifted back to the right and simultaneously scaled by a factor of 2, and finally in the fourth call it is rotated by an angle of $\\pi/3$. Run the cell above again after modifying some of the values, or trying other methods like, e.g., `set_color`)."
   ]
  },
  {
   "cell_type": "markdown",
   "id": "expired-stomach",
   "metadata": {},
   "source": [
    "When looking closely at the last animation from the scene above, the rotation, you might notice that this is not *actually* a rotation. The triangle is transformed to a rotated version of itself, but during the animation the vertices of the triangle don't move along an arc (as they would when the triangle was rotated around its center), but rather along straight lines, which gives the animation the impression that the triangle first shrinks a bit and then grows again.\n",
    "\n",
    "This is actually **not a bug**, but a consequence of how the `.animate` syntax works: the animation is constructed by specifying the starting state (the `triangle` Mobject in the example above), and the final state (the rotated mobject, `triangle.rotate(PI/3)`). Manim then tries to interpolate between these two, but doesn't actually know that you would like to smoothly rotate the triangle. The following example illustrates this clearly:"
   ]
  },
  {
   "cell_type": "code",
   "execution_count": null,
   "id": "recent-department",
   "metadata": {},
   "outputs": [],
   "source": [
    "%%manim -v WARNING -qm DifferentRotations\n",
    "\n",
    "class DifferentRotations(Scene):\n",
    "    def construct(self):\n",
    "        left_square = Square(color=BLUE, fill_opacity=0.7).shift(2*LEFT)\n",
    "        right_square = Square(color=GREEN, fill_opacity=0.7).shift(2*RIGHT)\n",
    "        self.play(left_square.animate.rotate(PI), Rotate(right_square, angle=PI), run_time=2)\n",
    "        self.wait()"
   ]
  },
  {
   "cell_type": "markdown",
   "id": "urban-liver",
   "metadata": {},
   "source": [
    "## Typesetting Mathematics"
   ]
  },
  {
   "cell_type": "markdown",
   "id": "divine-evanescence",
   "metadata": {},
   "source": [
    "Manim supports rendering and animating LaTeX, the markup language mathematics is very often typeset in. Learn more about it [in this 30 minute tutorial](https://www.overleaf.com/learn/latex/Learn_LaTeX_in_30_minutes).\n",
    "\n",
    "Here is a simple example for working with LaTeX in Manim:"
   ]
  },
  {
   "cell_type": "code",
   "execution_count": 5,
   "id": "bulgarian-violin",
   "metadata": {},
   "outputs": [
    {
     "name": "stderr",
     "output_type": "stream",
     "text": [
      "                                                                                                          \r"
     ]
    },
    {
     "data": {
      "text/html": [
       "<video src=\"media/jupyter/CauchyIntegralFormula@2022-03-04@23-49-53.mp4\" controls autoplay loop style=\"max-width: 60%;\"  >\n",
       "      Your browser does not support the <code>video</code> element.\n",
       "    </video>"
      ],
      "text/plain": [
       "<IPython.core.display.Video object>"
      ]
     },
     "metadata": {},
     "output_type": "display_data"
    }
   ],
   "source": [
    "%%manim -v WARNING -qm CauchyIntegralFormula\n",
    "\n",
    "class CauchyIntegralFormula(Scene):\n",
    "    def construct(self):\n",
    "        formula = MathTex(r\"[z^n]f(z) = \\frac{1}{2\\pi i}\\oint_{\\gamma} \\frac{f(z)}{z^{n+1}}~dz\")\n",
    "        self.play(Write(formula), run_time=30)\n",
    "        self.wait()"
   ]
  },
  {
   "cell_type": "markdown",
   "id": "potential-crowd",
   "metadata": {},
   "source": [
    "As this example demonstrates, `MathTex` allows to render simple (math mode) LaTeX strings. If you want to render \"normal mode\" LaTex, use `Tex` instead.\n",
    "\n",
    "Of course, Manim can also help you to visualize transformations of typeset formulae. Consider the following example:"
   ]
  },
  {
   "cell_type": "code",
   "execution_count": 3,
   "id": "proof-multiple",
   "metadata": {},
   "outputs": [
    {
     "name": "stderr",
     "output_type": "stream",
     "text": [
      "                                                                                                          \r"
     ]
    },
    {
     "data": {
      "text/html": [
       "<video src=\"media/jupyter/TransformEquation@2022-03-06@10-39-06.mp4\" controls autoplay loop style=\"max-width: 60%;\"  >\n",
       "      Your browser does not support the <code>video</code> element.\n",
       "    </video>"
      ],
      "text/plain": [
       "<IPython.core.display.Video object>"
      ]
     },
     "metadata": {},
     "output_type": "display_data"
    }
   ],
   "source": [
    "%%manim -v WARNING -qm TransformEquation\n",
    "\n",
    "class TransformEquation(Scene):\n",
    "    def construct(self):\n",
    "        eq1 = MathTex(\"42 {{ a^2 }} + {{ b^2 }} = {{ c^2 }}\")\n",
    "        eq2 = MathTex(\"42 {{ a^2 }} = {{ c^2 }} - {{ b^2 }}\")\n",
    "        eq3 = MathTex(r\"a^2 = \\frac{c^2 - b^2}{42}\")\n",
    "        self.add(eq1)\n",
    "        self.wait()\n",
    "        self.play(TransformMatchingTex(eq1, eq2))\n",
    "        self.wait()\n",
    "        self.play(TransformMatchingShapes(eq2, eq3))\n",
    "        self.wait()"
   ]
  },
  {
   "cell_type": "markdown",
   "id": "fuzzy-output",
   "metadata": {},
   "source": [
    "In this last example, `eq1` and `eq2` have some double braces positions where, conventionally, there wouldn't be any in plain LaTeX. This is special Manim notation that groups the resulting `Tex` Mobjects `eq1` and `eq2` in a particular way.\n",
    "\n",
    "This special notation is helpful when using the `TransformMatchingTex` animation: it will transform parts with equal TeX strings (for example, `a^2` to `a^2`) into each other – and without the special notation, the equation is considered to be one long TeX string. In comparison, `TransformMatchingShapes` is less smart: it simply tries to transform shapes that \"look the same\" into each other – nonetheless, it is still often very useful."
   ]
  },
  {
   "cell_type": "markdown",
   "id": "monetary-sleep",
   "metadata": {},
   "source": [
    "If you have made it this far, you should have a first impression of basic usage of the library. You can find a few more advanced examples that illustrate some more specialized concepts in the library below. Go ahead, try to play around and modify them just like you did for the ones above! Explore our [documentation](https://docs.manim.community) to get an idea about things that are already implemented – and look at the source code in case you want to build some more complex objects yourself.\n",
    "\n",
    "The [community](https://www.manim.community/discord/) is certainly also happy to answer questions – and we hope you share your awesome projects with us! **Happy *manimating*!**"
   ]
  },
  {
   "cell_type": "markdown",
   "id": "attractive-fight",
   "metadata": {},
   "source": [
    "## Some more specialized examples"
   ]
  },
  {
   "cell_type": "markdown",
   "id": "editorial-growth",
   "metadata": {},
   "source": [
    "Before you delve right into these examples: please note that they illustrate specialized concepts, they are meant to give you a feeling for how more complex scenes are setup and coded. The examples don't come with additional explanation, they are **not intended as (entry level) learning resources**."
   ]
  },
  {
   "cell_type": "code",
   "execution_count": 10,
   "id": "unexpected-berlin",
   "metadata": {},
   "outputs": [
    {
     "name": "stderr",
     "output_type": "stream",
     "text": [
      "                                                                                                     \r"
     ]
    },
    {
     "data": {
      "text/html": [
       "<video src=\"media/jupyter/FormulaEmphasis@2022-03-05@23-48-14.mp4\" controls autoplay loop style=\"max-width: 60%;\"  >\n",
       "      Your browser does not support the <code>video</code> element.\n",
       "    </video>"
      ],
      "text/plain": [
       "<IPython.core.display.Video object>"
      ]
     },
     "metadata": {},
     "output_type": "display_data"
    }
   ],
   "source": [
    "%%manim -v WARNING -qm FormulaEmphasis\n",
    "\n",
    "class FormulaEmphasis(Scene):\n",
    "    def construct(self):\n",
    "        product_formula = MathTex(\n",
    "            r\"\\frac{d}{dx} f(x)g(x) =\",\n",
    "            r\"f(x) \\frac{d}{dx} g(x)\",\n",
    "            r\"+\",\n",
    "            r\"g(x) \\frac{d}{dx} f(x)\"\n",
    "        )\n",
    "        self.play(Write(product_formula))\n",
    "        box1 = SurroundingRectangle(product_formula[1], buff=0.1)\n",
    "        box2 = SurroundingRectangle(product_formula[3], buff=0.1)\n",
    "        self.play(Create(box1))\n",
    "        self.wait()\n",
    "        self.play(Transform(box1, box2))\n",
    "        self.wait()"
   ]
  },
  {
   "cell_type": "code",
   "execution_count": null,
   "id": "aware-dispatch",
   "metadata": {},
   "outputs": [],
   "source": [
    "%%manim -v WARNING -qm PlotExample\n",
    "\n",
    "class PlotExample(Scene):\n",
    "    def construct(self):\n",
    "        plot_axes = Axes(\n",
    "            x_range=[0, 1, 0.05],\n",
    "            y_range=[0, 1, 0.05],\n",
    "            x_length=9,\n",
    "            y_length=5.5,\n",
    "            axis_config={\n",
    "                \"numbers_to_include\": np.arange(0, 1 + 0.1, 0.1),\n",
    "                \"font_size\": 24,\n",
    "            },\n",
    "            tips=False,\n",
    "        )\n",
    "\n",
    "        y_label = plot_axes.get_y_axis_label(\"y\", edge=LEFT, direction=LEFT, buff=0.4)\n",
    "        x_label = plot_axes.get_x_axis_label(\"x\")\n",
    "        plot_labels = VGroup(x_label, y_label)\n",
    "\n",
    "        plots = VGroup()\n",
    "        for n in np.arange(1, 20 + 0.5, 0.5):\n",
    "            plots += plot_axes.plot(lambda x: x**n, color=WHITE)\n",
    "            plots += plot_axes.plot(\n",
    "                lambda x: x**(1 / n), color=WHITE, use_smoothing=False\n",
    "            )\n",
    "\n",
    "        extras = VGroup()\n",
    "        extras += plot_axes.get_horizontal_line(plot_axes.c2p(1, 1, 0), color=BLUE)\n",
    "        extras += plot_axes.get_vertical_line(plot_axes.c2p(1, 1, 0), color=BLUE)\n",
    "        extras += Dot(point=plot_axes.c2p(1, 1, 0), color=YELLOW)\n",
    "        title = Title(\n",
    "            r\"Graphs of $y=x^{\\frac{1}{n}}$ and $y=x^n (n=1, 1.5, 2, 2.5, 3, \\dots, 20)$\",\n",
    "            include_underline=False,\n",
    "            font_size=40,\n",
    "        )\n",
    "        \n",
    "        self.play(Write(title))\n",
    "        self.play(Create(plot_axes), Create(plot_labels), Create(extras))\n",
    "        self.play(AnimationGroup(*[Create(plot) for plot in plots], lag_ratio=0.05))"
   ]
  },
  {
   "cell_type": "code",
   "execution_count": null,
   "id": "significant-toner",
   "metadata": {},
   "outputs": [],
   "source": [
    "%%manim -v WARNING -qm ErdosRenyiGraph\n",
    "\n",
    "import networkx as nx\n",
    "\n",
    "nxgraph = nx.erdos_renyi_graph(14, 0.5)\n",
    "\n",
    "class ErdosRenyiGraph(Scene):\n",
    "    def construct(self):\n",
    "        G = Graph.from_networkx(nxgraph, layout=\"spring\", layout_scale=3.5)\n",
    "        self.play(Create(G))\n",
    "        self.play(*[G[v].animate.move_to(5*RIGHT*np.cos(ind/7 * PI) +\n",
    "                                         3*UP*np.sin(ind/7 * PI))\n",
    "                    for ind, v in enumerate(G.vertices)])\n",
    "        self.play(Uncreate(G))"
   ]
  },
  {
   "cell_type": "code",
   "execution_count": null,
   "id": "electrical-forty",
   "metadata": {},
   "outputs": [],
   "source": [
    "%%manim -v WARNING -qm CodeFromString\n",
    "\n",
    "class CodeFromString(Scene):\n",
    "    def construct(self):\n",
    "        code = '''from manim import Scene, Square\n",
    "\n",
    "class FadeInSquare(Scene):\n",
    "    def construct(self):\n",
    "        s = Square()\n",
    "        self.play(FadeIn(s))\n",
    "        self.play(s.animate.scale(2))\n",
    "        self.wait()\n",
    "'''\n",
    "        rendered_code = Code(code=code, tab_width=4, background=\"window\",\n",
    "                            language=\"Python\", font=\"Monospace\")\n",
    "        self.play(Write(rendered_code))\n",
    "        self.wait(2)"
   ]
  },
  {
   "cell_type": "code",
   "execution_count": null,
   "id": "funny-reservoir",
   "metadata": {},
   "outputs": [],
   "source": [
    "%%manim -qm -v WARNING OpeningManim\n",
    "\n",
    "class OpeningManim(Scene):\n",
    "    def construct(self):\n",
    "        title = Tex(r\"This is some \\LaTeX\")\n",
    "        basel = MathTex(r\"\\sum_{n=1}^\\infty \\frac{1}{n^2} = \\frac{\\pi^2}{6}\")\n",
    "        VGroup(title, basel).arrange(DOWN)\n",
    "        self.play(\n",
    "            Write(title),\n",
    "            FadeIn(basel, shift=UP),\n",
    "        )\n",
    "        self.wait()\n",
    "\n",
    "        transform_title = Tex(\"That was a transform\")\n",
    "        transform_title.to_corner(UP + LEFT)\n",
    "        self.play(\n",
    "            Transform(title, transform_title),\n",
    "            LaggedStart(*[FadeOut(obj, shift=DOWN) for obj in basel]),\n",
    "        )\n",
    "        self.wait()\n",
    "\n",
    "        grid = NumberPlane(x_range=(-10, 10, 1), y_range=(-6.0, 6.0, 1))\n",
    "        grid_title = Tex(\"This is a grid\")\n",
    "        grid_title.scale(1.5)\n",
    "        grid_title.move_to(transform_title)\n",
    "\n",
    "        self.add(grid, grid_title)\n",
    "        self.play(\n",
    "            FadeOut(title),\n",
    "            FadeIn(grid_title, shift=DOWN),\n",
    "            Create(grid, run_time=3, lag_ratio=0.1),\n",
    "        )\n",
    "        self.wait()\n",
    "\n",
    "        grid_transform_title = Tex(\n",
    "            r\"That was a non-linear function \\\\ applied to the grid\"\n",
    "        )\n",
    "        grid_transform_title.move_to(grid_title, UL)\n",
    "        grid.prepare_for_nonlinear_transform()\n",
    "        self.play(\n",
    "            grid.animate.apply_function(\n",
    "                lambda p: p + np.array([np.sin(p[1]), np.sin(p[0]), 0])\n",
    "            ),\n",
    "            run_time=3,\n",
    "        )\n",
    "        self.wait()\n",
    "        self.play(Transform(grid_title, grid_transform_title))\n",
    "        self.wait()"
   ]
  },
  {
   "cell_type": "code",
   "execution_count": null,
   "id": "enabling-greek",
   "metadata": {},
   "outputs": [],
   "source": []
  }
 ],
 "metadata": {
  "kernelspec": {
   "display_name": "Python 3 (ipykernel)",
   "language": "python",
   "name": "python3"
  },
  "language_info": {
   "codemirror_mode": {
    "name": "ipython",
    "version": 3
   },
   "file_extension": ".py",
   "mimetype": "text/x-python",
   "name": "python",
   "nbconvert_exporter": "python",
   "pygments_lexer": "ipython3",
   "version": "3.9.7"
  }
 },
 "nbformat": 4,
 "nbformat_minor": 5
}
